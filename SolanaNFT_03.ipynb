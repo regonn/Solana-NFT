{
  "nbformat": 4,
  "nbformat_minor": 0,
  "metadata": {
    "colab": {
      "name": "SolanaNFT_03.ipynb",
      "provenance": [],
      "collapsed_sections": []
    },
    "kernelspec": {
      "name": "python3",
      "display_name": "Python 3"
    },
    "language_info": {
      "name": "python"
    }
  },
  "cells": [
    {
      "cell_type": "markdown",
      "metadata": {
        "id": "-F8arECnvEDi"
      },
      "source": [
        "# Arweaveに画像とオフチェーンメタデータをアップロードする\n",
        "\n",
        "Pythonを利用してArweaveに画像とオフチェーンメタデータをアップロードをしていく"
      ]
    },
    {
      "cell_type": "markdown",
      "metadata": {
        "id": "H_1kMSfivCAJ"
      },
      "source": [
        "- [Google Colab で実行するためのリンク](https://colab.research.google.com/github/regonn/Solana-NFT/blob/master/SolanaNFT_03.ipynb)\n",
        "\n",
        "- [Softgateさんの NFT 技術基礎論](https://quirky-caution-3c5.notion.site/NFT-507d8038e2cd46de831e42ba2b4c0a90)\n",
        "\n",
        "- [Arweave](https://www.arweave.org/)"
      ]
    },
    {
      "cell_type": "markdown",
      "metadata": {
        "id": "Bv7eGq0pe2Dt"
      },
      "source": [
        "## AR ウォレット作成\n",
        "- 初回ウォレット作成時に少額の AR をくれる\n",
        "  - https://faucet.arweave.net/\n",
        "- 今回は作成時に作られる json ファイルが必要\n",
        "  - ※ウォレットキーファイルのためアップロードしたくない場合はローカルのPython環境での実行をおすすめします"
      ]
    },
    {
      "cell_type": "markdown",
      "metadata": {
        "id": "yz2QkfUiXRKI"
      },
      "source": [
        "## 環境構築"
      ]
    },
    {
      "cell_type": "code",
      "metadata": {
        "id": "qRwojuDtt-LR"
      },
      "source": [
        "!pip install arweave-python-client -U"
      ],
      "execution_count": null,
      "outputs": []
    },
    {
      "cell_type": "markdown",
      "metadata": {
        "id": "Bpqi5vJ9XMYw"
      },
      "source": [
        "## 画像生成"
      ]
    },
    {
      "cell_type": "code",
      "metadata": {
        "id": "0cICF1yhuA49"
      },
      "source": [
        "import random\n",
        "from matplotlib.pyplot import imshow\n",
        "from PIL import Image, ImageDraw"
      ],
      "execution_count": null,
      "outputs": []
    },
    {
      "cell_type": "code",
      "metadata": {
        "id": "0i7hLanWaFo2"
      },
      "source": [
        "# 画像生成用シード値\n",
        "seed_number = 46\n",
        "# 画像上のオブジェクトサイズ\n",
        "OBJ_SIZE = 10\n",
        "# 画像に出現するオブジェクト数\n",
        "OBJ_NUMBERS = 100"
      ],
      "execution_count": null,
      "outputs": []
    },
    {
      "cell_type": "code",
      "metadata": {
        "id": "lhXAxEaNHSp7"
      },
      "source": [
        "def generate_random_image(seed):\n",
        "    IMG_SIZE = 320\n",
        "    random.seed(seed)\n",
        "    im = Image.new(\"RGB\", (IMG_SIZE, IMG_SIZE))\n",
        "    draw = ImageDraw.Draw(im)\n",
        "    for i in range(OBJ_NUMBERS):\n",
        "        pos_x = int(random.random() * IMG_SIZE)\n",
        "        pos_y = int(random.random() * IMG_SIZE)\n",
        "        r = random.randint(0,256)\n",
        "        g = random.randint(0,256)\n",
        "        b = random.randint(0,256)\n",
        "        draw.ellipse((pos_x - OBJ_SIZE, \n",
        "                      pos_y - OBJ_SIZE, \n",
        "                      pos_x + OBJ_SIZE, \n",
        "                      pos_y + OBJ_SIZE), \n",
        "                      (r,g,b))\n",
        "    imshow(im)\n",
        "    im.save('./bubbles.png')"
      ],
      "execution_count": null,
      "outputs": []
    },
    {
      "cell_type": "code",
      "metadata": {
        "id": "2EGHdjNxL5Yd"
      },
      "source": [
        "# seed値を変えると異なる画像が生成される\n",
        "generate_random_image(seed_number)"
      ],
      "execution_count": null,
      "outputs": []
    },
    {
      "cell_type": "markdown",
      "metadata": {
        "id": "ff4R4l4hXrTA"
      },
      "source": [
        "## 画像をArweaveへアップロード\n",
        "- アップロード費用計算サイト\n",
        "  - https://arweavefees.com/\n",
        "- 今回の画像は9KB程度で見積もりは\n",
        "  - 0.000005546966 AR (0.00023 USD)"
      ]
    },
    {
      "cell_type": "code",
      "metadata": {
        "id": "vg1GYrdfXxbp"
      },
      "source": [
        "import arweave\n",
        "import json"
      ],
      "execution_count": null,
      "outputs": []
    },
    {
      "cell_type": "code",
      "metadata": {
        "id": "VptQfGfUVeI5"
      },
      "source": [
        "# ※ウォレットキーファイルのアップロードには注意してください\n",
        "wallet_file_path = \"./arweave-keyfile.json\"\n",
        "wallet = arweave.Wallet(wallet_file_path)"
      ],
      "execution_count": null,
      "outputs": []
    },
    {
      "cell_type": "code",
      "metadata": {
        "id": "VswctczYVrxw"
      },
      "source": [
        "balance = wallet.balance"
      ],
      "execution_count": null,
      "outputs": []
    },
    {
      "cell_type": "code",
      "metadata": {
        "id": "5bekUP2iVu-A"
      },
      "source": [
        "balance"
      ],
      "execution_count": null,
      "outputs": []
    },
    {
      "cell_type": "code",
      "metadata": {
        "id": "tizTl4t1Vvt4"
      },
      "source": [
        "# コード実行で実際にトランザクション(アップロード処理)が実行されるので注意\n",
        "with open('./bubbles.png', 'rb') as img:\n",
        "    img_data = img.read()\n",
        "\n",
        "    transaction = arweave.Transaction(wallet, data=img_data)\n",
        "    transaction.add_tag(\"Content-Type\", \"image/png\")\n",
        "    transaction.sign()\n",
        "    transaction.send()\n"
      ],
      "execution_count": null,
      "outputs": []
    },
    {
      "cell_type": "code",
      "metadata": {
        "id": "_NUFfnA4VB10"
      },
      "source": [
        "transaction_data = transaction.to_dict()"
      ],
      "execution_count": null,
      "outputs": []
    },
    {
      "cell_type": "code",
      "metadata": {
        "id": "v3thYjDKWUar"
      },
      "source": [
        "transaction_data"
      ],
      "execution_count": null,
      "outputs": []
    },
    {
      "cell_type": "code",
      "metadata": {
        "id": "x_bPTZj4WZBv"
      },
      "source": [
        "image_url = f\"https://www.arweave.net/{transaction_data['id']}?ext=png\""
      ],
      "execution_count": null,
      "outputs": []
    },
    {
      "cell_type": "code",
      "metadata": {
        "id": "9o85KzT7WpjN"
      },
      "source": [
        "image_url"
      ],
      "execution_count": null,
      "outputs": []
    },
    {
      "cell_type": "markdown",
      "metadata": {
        "id": "NoxY4N07Qo4X"
      },
      "source": [
        "## オフチェーン用JSONメタデータ作成\n",
        "- Metaplex で指定されている JSON 構造\n",
        "  - https://docs.metaplex.com/nft-standard#uri-json-schema"
      ]
    },
    {
      "cell_type": "code",
      "metadata": {
        "id": "e4eqcomhN0qT"
      },
      "source": [
        "name = f'Bubbles #{seed_number}'\n",
        "metadata = {\n",
        "    'name': name, # 名前\n",
        "    'symbol': \"\", # シンボル名(特に必須ではなさそう)\n",
        "    'description': \"What a beautiful bubbles!\", # 説明\n",
        "    'seller_fee_basis_points': 500, # セカンダリーマーケットで指定した creators に渡るロイヤリティ (0-10000) 500で5%\n",
        "    'external_url': \"https://twitter.com/regonn_haizine\", # 本来はNFTのページとかを貼る用の外部URL\n",
        "    'attributes': [ # アイテムに関する情報、opensea の形式に則っているっぽい https://docs.opensea.io/docs/metadata-standards#attributes value は数字か文字列\n",
        "        {\n",
        "            'trait_type': \"name\",\n",
        "            'value': name\n",
        "        },\n",
        "        {\n",
        "            'trait_type': \"obj_size\",\n",
        "            'value': OBJ_SIZE\n",
        "        },\n",
        "        {\n",
        "            'trait_type': \"obj_numbers\",\n",
        "            'value': OBJ_NUMBERS\n",
        "        },\n",
        "    ],\n",
        "    'collection': { # コレクション名(よくあるNFTの偽物ってここの情報を本物と同じに合わせているだけなのかも?)\n",
        "        'name': \"Bubbles\",\n",
        "        'family': \"NFT Study\",\n",
        "    },\n",
        "    'properties': { # ユーザに表示する情報をまとめたもの、表示する画像等\n",
        "        'files': [\n",
        "            {\n",
        "                'uri': image_url,\n",
        "                'type': \"image/png\",\n",
        "            },\n",
        "        ],\n",
        "        'category': \"image\", # \"image\", \"video\", \"audio\", \"vr\" のカテゴリが存在する\n",
        "        'creators': [\n",
        "            {\n",
        "                'address': \"A8r5gPBeUHbguZ6mKGB1zzbKhMHtfQdWx6YqXQ94Ujjd\",\n",
        "                'share': 100,\n",
        "            },\n",
        "        ],\n",
        "    },\n",
        "    'image': image_url,\n",
        "}"
      ],
      "execution_count": null,
      "outputs": []
    },
    {
      "cell_type": "code",
      "metadata": {
        "id": "n2nawKJufMDw"
      },
      "source": [
        "metadata"
      ],
      "execution_count": null,
      "outputs": []
    },
    {
      "cell_type": "code",
      "metadata": {
        "id": "rl020YVgizsB"
      },
      "source": [
        "json_str = json.dumps(metadata)"
      ],
      "execution_count": null,
      "outputs": []
    },
    {
      "cell_type": "code",
      "metadata": {
        "id": "FSjSNU6GqyYq"
      },
      "source": [
        "json_str"
      ],
      "execution_count": null,
      "outputs": []
    },
    {
      "cell_type": "code",
      "metadata": {
        "id": "xaf1ibGQq3_o"
      },
      "source": [
        "# コード実行で実際にトランザクション(アップロード処理)が実行されるので注意\n",
        "metadata_transaction = arweave.Transaction(wallet, data=json_str)\n",
        "metadata_transaction.add_tag(\"Content-Type\", \"application/json\")\n",
        "metadata_transaction.sign()\n",
        "metadata_transaction.send()"
      ],
      "execution_count": null,
      "outputs": []
    },
    {
      "cell_type": "code",
      "metadata": {
        "id": "26gvkxxbr0h6"
      },
      "source": [
        "metadata_transaction_data = metadata_transaction.to_dict()"
      ],
      "execution_count": null,
      "outputs": []
    },
    {
      "cell_type": "code",
      "metadata": {
        "id": "v7Y3nEvLr7IR"
      },
      "source": [
        "metadata_transaction_data"
      ],
      "execution_count": null,
      "outputs": []
    },
    {
      "cell_type": "code",
      "metadata": {
        "id": "BqEXNfJjr9Cg"
      },
      "source": [
        "json_url = f\"https://www.arweave.net/{metadata_transaction_data['id']}\""
      ],
      "execution_count": null,
      "outputs": []
    },
    {
      "cell_type": "markdown",
      "metadata": {
        "id": "GEcl-7wTtFVa"
      },
      "source": [
        ""
      ]
    },
    {
      "cell_type": "code",
      "metadata": {
        "id": "_W5kvLEysMoR"
      },
      "source": [
        "json_url"
      ],
      "execution_count": null,
      "outputs": []
    },
    {
      "cell_type": "markdown",
      "metadata": {
        "id": "nOXD8uext6pP"
      },
      "source": [
        "## arql を利用して過去のトランザクション情報を取得"
      ]
    },
    {
      "cell_type": "code",
      "metadata": {
        "id": "yMGNzSE7t9ie"
      },
      "source": [
        "from arweave.arweave_lib import arql"
      ],
      "execution_count": null,
      "outputs": []
    },
    {
      "cell_type": "code",
      "metadata": {
        "id": "MfIEvFDesNwB"
      },
      "source": [
        "transaction_ids = arql(\n",
        "    wallet,\n",
        "    {\n",
        "        \"op\": \"equals\",\n",
        "        \"expr1\": \"from\",\n",
        "        \"expr2\": \"ZF8XWGJFSj7bPlJCmXaJOIhianqkiUksMRqwAjz2kU8\"\n",
        "    })"
      ],
      "execution_count": null,
      "outputs": []
    },
    {
      "cell_type": "code",
      "metadata": {
        "id": "KI74-dw1tzqT"
      },
      "source": [
        "transaction_ids"
      ],
      "execution_count": null,
      "outputs": []
    },
    {
      "cell_type": "code",
      "metadata": {
        "id": "4MO3MNBauA2S"
      },
      "source": [
        "tx = arweave.Transaction(wallet, id=transaction_ids[0])\n",
        "tx.get_transaction()"
      ],
      "execution_count": null,
      "outputs": []
    },
    {
      "cell_type": "code",
      "metadata": {
        "id": "VURmSHiwugjx"
      },
      "source": [
        "tx.get_data()\n",
        "tx.data"
      ],
      "execution_count": null,
      "outputs": []
    },
    {
      "cell_type": "code",
      "metadata": {
        "id": "LW70gr3zupAS"
      },
      "source": [
        ""
      ],
      "execution_count": null,
      "outputs": []
    }
  ]
}