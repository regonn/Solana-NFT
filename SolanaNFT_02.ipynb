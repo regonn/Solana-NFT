{
  "nbformat": 4,
  "nbformat_minor": 0,
  "metadata": {
    "colab": {
      "name": "SolanaNFT_02.ipynb",
      "provenance": []
    },
    "kernelspec": {
      "name": "python3",
      "display_name": "Python 3"
    },
    "language_info": {
      "name": "python"
    }
  },
  "cells": [
    {
      "cell_type": "markdown",
      "metadata": {
        "id": "lyrvpZYVegXj"
      },
      "source": [
        "## 特定のWalletに入っているNFTの画像を表示する\n",
        "\n",
        "Pythonを利用してSolanaのNFT周りのデータを取得していく"
      ]
    },
    {
      "cell_type": "markdown",
      "metadata": {
        "id": "TurCLEsTZ3Qi"
      },
      "source": [
        "- [Google Colab で実行するためのリンク](https://colab.research.google.com/github/regonn/Solana-NFT/blob/master/SolanaNFT_02.ipynb)\n",
        "\n",
        "- [Softgateさんの NFT 技術基礎論](https://quirky-caution-3c5.notion.site/NFT-507d8038e2cd46de831e42ba2b4c0a90)"
      ]
    },
    {
      "cell_type": "code",
      "metadata": {
        "id": "f1w4DeQmGwg_"
      },
      "source": [
        "!pip install solana -U"
      ],
      "execution_count": null,
      "outputs": []
    },
    {
      "cell_type": "code",
      "metadata": {
        "id": "paQk5ShpHP_K"
      },
      "source": [
        "# solana ライブラリで利用するもの\n",
        "from solana.publickey import PublicKey\n",
        "from solana.rpc.api import Client\n",
        "from solana.rpc.types import TokenAccountOpts\n",
        "\n",
        "# エンコードされたデータやバイナリデータを扱うためのライブラリ\n",
        "import base58\n",
        "import base64\n",
        "import struct"
      ],
      "execution_count": null,
      "outputs": []
    },
    {
      "cell_type": "code",
      "metadata": {
        "id": "zFmtJ9j0HkA8"
      },
      "source": [
        "# Solana上にデプロイされたプログラムID\n",
        "METADATA_PROGRAM_ID = PublicKey('metaqbxxUerdq28cj1RbAWkYQm3ybzjb6a8bt518x1s')\n",
        "TOKEN_PROGRAM_ID = PublicKey('TokenkegQfeZyiNwAJbNbGKPFXCWuBvf9Ss623VQ5DA')\n",
        "\n",
        "# 一つだけTokenを持っているWalletアドレス\n",
        "WALLET_ADDRESS = \"DDM479qxu1s9eZF8cf8ygRzSGUdhghNymdfdUTWJYxoT\""
      ],
      "execution_count": null,
      "outputs": []
    },
    {
      "cell_type": "code",
      "metadata": {
        "id": "l4tkbXbvIGbr"
      },
      "source": [
        "# メインネットを利用する\n",
        "client = Client(\"https://api.mainnet-beta.solana.com\")"
      ],
      "execution_count": null,
      "outputs": []
    },
    {
      "cell_type": "code",
      "metadata": {
        "id": "H-Yb5FM5LHXi"
      },
      "source": [
        "# encoding= 'jsonParsed' を設定しないと、Base64 等エンコードされたdataが返ってくるので注意\n",
        "opts = TokenAccountOpts(program_id = TOKEN_PROGRAM_ID, encoding= 'jsonParsed')"
      ],
      "execution_count": null,
      "outputs": []
    },
    {
      "cell_type": "code",
      "metadata": {
        "id": "N48fg17OJIFA"
      },
      "source": [
        "# https://michaelhly.github.io/solana-py/api.html#solana.rpc.api.Client.get_token_accounts_by_owner\n",
        "client_response = client.get_token_accounts_by_owner(PublicKey(WALLET_ADDRESS), opts=opts)"
      ],
      "execution_count": null,
      "outputs": []
    },
    {
      "cell_type": "code",
      "metadata": {
        "id": "e-dPR0vMXjTO"
      },
      "source": [
        "client_response"
      ],
      "execution_count": null,
      "outputs": []
    },
    {
      "cell_type": "code",
      "metadata": {
        "id": "D-5PKkWVJ2fc"
      },
      "source": [
        "data = client_response['result']['value'][0]['account']['data']['parsed']"
      ],
      "execution_count": null,
      "outputs": []
    },
    {
      "cell_type": "code",
      "metadata": {
        "id": "-k-uX0-PL-N9"
      },
      "source": [
        "data"
      ],
      "execution_count": null,
      "outputs": []
    },
    {
      "cell_type": "code",
      "metadata": {
        "id": "9040TLOrL-xq"
      },
      "source": [
        "mint_address = data['info']['mint']"
      ],
      "execution_count": null,
      "outputs": []
    },
    {
      "cell_type": "code",
      "metadata": {
        "id": "3qdJP5kDM3X9"
      },
      "source": [
        "mint_address"
      ],
      "execution_count": null,
      "outputs": []
    },
    {
      "cell_type": "code",
      "metadata": {
        "id": "cIl3MMSjHtGb"
      },
      "source": [
        "# https://github.com/metaplex-foundation/python-api/blob/57499489443a1a31f5c77f4d66831aa06ef2eb4a/metaplex/metadata.py\n",
        "# 上記のURLより取得\n",
        "\n",
        "# metadataアカウントを取得する\n",
        "def get_metadata_account(mint_key):\n",
        "    return PublicKey.find_program_address(\n",
        "        [b'metadata', bytes(METADATA_PROGRAM_ID), bytes(PublicKey(mint_key))],\n",
        "        METADATA_PROGRAM_ID\n",
        "    )[0]\n",
        "\n",
        "# バイナリデータからmetadata情報を取り出す\n",
        "def unpack_metadata_account(data):\n",
        "    assert(data[0] == 4)\n",
        "    i = 1\n",
        "    source_account = base58.b58encode(bytes(struct.unpack('<' + \"B\"*32, data[i:i+32])))\n",
        "    i += 32\n",
        "    mint_account = base58.b58encode(bytes(struct.unpack('<' + \"B\"*32, data[i:i+32])))\n",
        "    i += 32\n",
        "    name_len = struct.unpack('<I', data[i:i+4])[0]\n",
        "    i += 4\n",
        "    name = struct.unpack('<' + \"B\"*name_len, data[i:i+name_len])\n",
        "    i += name_len\n",
        "    symbol_len = struct.unpack('<I', data[i:i+4])[0]\n",
        "    i += 4 \n",
        "    symbol = struct.unpack('<' + \"B\"*symbol_len, data[i:i+symbol_len])\n",
        "    i += symbol_len\n",
        "    uri_len = struct.unpack('<I', data[i:i+4])[0]\n",
        "    i += 4 \n",
        "    uri = struct.unpack('<' + \"B\"*uri_len, data[i:i+uri_len])\n",
        "    i += uri_len\n",
        "    fee = struct.unpack('<h', data[i:i+2])[0]\n",
        "    i += 2\n",
        "    has_creator = data[i] \n",
        "    i += 1\n",
        "    creators = []\n",
        "    verified = []\n",
        "    share = []\n",
        "    if has_creator:\n",
        "        creator_len = struct.unpack('<I', data[i:i+4])[0]\n",
        "        i += 4\n",
        "        for _ in range(creator_len):\n",
        "            creator = base58.b58encode(bytes(struct.unpack('<' + \"B\"*32, data[i:i+32])))\n",
        "            creators.append(creator)\n",
        "            i += 32\n",
        "            verified.append(data[i])\n",
        "            i += 1\n",
        "            share.append(data[i])\n",
        "            i += 1\n",
        "    primary_sale_happened = bool(data[i])\n",
        "    i += 1\n",
        "    is_mutable = bool(data[i])\n",
        "    metadata = {\n",
        "        \"update_authority\": source_account,\n",
        "        \"mint\": mint_account,\n",
        "        \"data\": {\n",
        "            \"name\": bytes(name).decode(\"utf-8\").strip(\"\\x00\"),\n",
        "            \"symbol\": bytes(symbol).decode(\"utf-8\").strip(\"\\x00\"),\n",
        "            \"uri\": bytes(uri).decode(\"utf-8\").strip(\"\\x00\"),\n",
        "            \"seller_fee_basis_points\": fee,\n",
        "            \"creators\": creators,\n",
        "            \"verified\": verified,\n",
        "            \"share\": share,\n",
        "        },\n",
        "        \"primary_sale_happened\": primary_sale_happened,\n",
        "        \"is_mutable\": is_mutable,\n",
        "    }\n",
        "    return metadata"
      ],
      "execution_count": null,
      "outputs": []
    },
    {
      "cell_type": "code",
      "metadata": {
        "id": "-e23eyhZOeud"
      },
      "source": [
        "metadata_account = get_metadata_account(mint_address)"
      ],
      "execution_count": null,
      "outputs": []
    },
    {
      "cell_type": "code",
      "metadata": {
        "id": "z-3iTnhaOna7"
      },
      "source": [
        "metadata_account"
      ],
      "execution_count": null,
      "outputs": []
    },
    {
      "cell_type": "code",
      "metadata": {
        "id": "8wnAfZmSOomR"
      },
      "source": [
        "# https://michaelhly.github.io/solana-py/api.html#solana.rpc.api.Client.get_account_info\n",
        "# get_account_info は data が json としてパースできない場合には base64 で返してくる\n",
        "# 今回の場合もmetadataはバイナリデータなので、jsonParsed を指定しても base64 で渡ってくる\n",
        "\n",
        "decoded_data = base64.b64decode(client.get_account_info(metadata_account)['result']['value']['data'][0])"
      ],
      "execution_count": null,
      "outputs": []
    },
    {
      "cell_type": "code",
      "metadata": {
        "id": "7fccpMdNO0mX"
      },
      "source": [
        "metadata = unpack_metadata_account(decoded_data)"
      ],
      "execution_count": null,
      "outputs": []
    },
    {
      "cell_type": "code",
      "metadata": {
        "id": "LP54CPngPQcK"
      },
      "source": [
        "# オンチェーンメタデータ\n",
        "metadata"
      ],
      "execution_count": null,
      "outputs": []
    },
    {
      "cell_type": "code",
      "metadata": {
        "id": "cppWOhveO29e"
      },
      "source": [
        "metadata_uri = metadata['data']['uri']"
      ],
      "execution_count": null,
      "outputs": []
    },
    {
      "cell_type": "code",
      "metadata": {
        "id": "WEAnX19OO_Z9"
      },
      "source": [
        "# メタデータURL\n",
        "metadata_uri"
      ],
      "execution_count": null,
      "outputs": []
    },
    {
      "cell_type": "code",
      "metadata": {
        "id": "-M1TWUX6PNZt"
      },
      "source": [
        "import requests"
      ],
      "execution_count": null,
      "outputs": []
    },
    {
      "cell_type": "code",
      "metadata": {
        "id": "rHA0BqxaPmgz"
      },
      "source": [
        "response = requests.get(metadata_uri)"
      ],
      "execution_count": null,
      "outputs": []
    },
    {
      "cell_type": "code",
      "metadata": {
        "id": "vuaN5TcNP4dc"
      },
      "source": [
        "response.text"
      ],
      "execution_count": null,
      "outputs": []
    },
    {
      "cell_type": "code",
      "metadata": {
        "id": "H7IMzt4zP5dm"
      },
      "source": [
        "response_json = response.json()"
      ],
      "execution_count": null,
      "outputs": []
    },
    {
      "cell_type": "code",
      "metadata": {
        "id": "cvxENA5jP-8M"
      },
      "source": [
        "# オフチェーンメタデータ\n",
        "response_json"
      ],
      "execution_count": null,
      "outputs": []
    },
    {
      "cell_type": "code",
      "metadata": {
        "id": "aEnbo_rSQZpq"
      },
      "source": [
        "from IPython.display import Image"
      ],
      "execution_count": null,
      "outputs": []
    },
    {
      "cell_type": "code",
      "metadata": {
        "id": "AnGVZznuQm2c"
      },
      "source": [
        "Image(url= response_json['image'])"
      ],
      "execution_count": null,
      "outputs": []
    },
    {
      "cell_type": "code",
      "metadata": {
        "id": "K3-oxy65Qr9m"
      },
      "source": [
        ""
      ],
      "execution_count": null,
      "outputs": []
    }
  ]
}