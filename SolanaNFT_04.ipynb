{
  "nbformat": 4,
  "nbformat_minor": 0,
  "metadata": {
    "colab": {
      "name": "SolanaNFT_04.ipynb",
      "provenance": [],
      "collapsed_sections": []
    },
    "kernelspec": {
      "name": "python3",
      "display_name": "Python 3"
    },
    "language_info": {
      "name": "python"
    }
  },
  "cells": [
    {
      "cell_type": "markdown",
      "metadata": {
        "id": "-F8arECnvEDi"
      },
      "source": [
        "# SPLトークンをミントして NFT を作成する\n",
        "\n",
        "Metaplex Python API を利用してNFTを作成する"
      ]
    },
    {
      "cell_type": "markdown",
      "metadata": {
        "id": "H_1kMSfivCAJ"
      },
      "source": [
        "- [Google Colab で実行するためのリンク](https://colab.research.google.com/github/regonn/Solana-NFT/blob/master/SolanaNFT_04.ipynb)\n",
        "\n",
        "- [Softgateさんの NFT 技術基礎論](https://quirky-caution-3c5.notion.site/NFT-507d8038e2cd46de831e42ba2b4c0a90)\n",
        "    - 「3. SPL トークンをミント」\n",
        "    - 「4. createMetadataAccount でメタデータアカウントを作成」\n",
        "    - 「5. createMasterEdition で NFT を作成」\n",
        "- Metaplex Python API (https://github.com/metaplex-foundation/python-api)\n",
        "    - deploy コマンド\n",
        "        - 「3. SPL トークンをミント」\n",
        "    - mint コマンド\n",
        "        - 「4. createMetadataAccount でメタデータアカウントを作成」\n",
        "        - 「5. createMasterEdition で NFT を作成」"
      ]
    },
    {
      "cell_type": "markdown",
      "metadata": {
        "id": "yz2QkfUiXRKI"
      },
      "source": [
        "## 環境構築"
      ]
    },
    {
      "cell_type": "code",
      "metadata": {
        "id": "6B6m5ysBLLzi"
      },
      "source": [
        "!git clone https://github.com/metaplex-foundation/python-api.git"
      ],
      "execution_count": null,
      "outputs": []
    },
    {
      "cell_type": "code",
      "metadata": {
        "id": "ZBgf5bByNA7P"
      },
      "source": [
        "%cd python-api"
      ],
      "execution_count": null,
      "outputs": []
    },
    {
      "cell_type": "code",
      "metadata": {
        "id": "Pkmj2a6G1Nsm"
      },
      "source": [
        "# ライブラリでバージョン管理されていないので、動画撮影時の最新コミットに固定\n",
        "!git checkout ce1b314b629270c2d357b5698afd7ccbf3308a41"
      ],
      "execution_count": null,
      "outputs": []
    },
    {
      "cell_type": "code",
      "metadata": {
        "id": "zoaHPAi4Lezg"
      },
      "source": [
        "!pip install -r ./requirements.txt"
      ],
      "execution_count": null,
      "outputs": []
    },
    {
      "cell_type": "code",
      "metadata": {
        "id": "EFD4SRoXMCeq"
      },
      "source": [
        "from api.metaplex_api import MetaplexAPI\n",
        "from cryptography.fernet import Fernet\n",
        "\n",
        "# Account は非推奨(deprecated) だが、APIが Account の時に書かれているコードなのでこっちを利用している\n",
        "from solana.account import Account\n",
        "# Solana 0.9.2 だと Keypair は実装されていないので注意\n",
        "# from solana.keypair import Keypair\n",
        "from solana.rpc.api import Client\n",
        "import base58\n",
        "import json"
      ],
      "execution_count": null,
      "outputs": []
    },
    {
      "cell_type": "code",
      "metadata": {
        "id": "XfLzM84gzNHQ"
      },
      "source": [
        "# 前回作った Arweave でのオフチェーンメタデータのURI\n",
        "offchain_metadata_uri = 'https://arweave.net/s9IU4ite53UwvThJc4gqZFXCSJ23jUF5e0PEkwo1SwY/'"
      ],
      "execution_count": null,
      "outputs": []
    },
    {
      "cell_type": "code",
      "metadata": {
        "id": "v1bTVB0SIaMM"
      },
      "source": [
        "# 今回は devnet で行う\n",
        "api_endpoint = \"https://api.devnet.solana.com\""
      ],
      "execution_count": null,
      "outputs": []
    },
    {
      "cell_type": "code",
      "metadata": {
        "id": "-e-nHpRjH9jF"
      },
      "source": [
        "# 秘密鍵情報等を Dictionary で管理しておいて、最後に JSON で出力するようにするための変数\n",
        "keys_dict = {}"
      ],
      "execution_count": null,
      "outputs": []
    },
    {
      "cell_type": "code",
      "metadata": {
        "id": "EzsQI8wYdlS2"
      },
      "source": [
        "keys_dict['api_endpoint'] = api_endpoint"
      ],
      "execution_count": null,
      "outputs": []
    },
    {
      "cell_type": "code",
      "metadata": {
        "id": "IjnxmSx7Hk5R"
      },
      "source": [
        "# 暗号化用のキーを生成\n",
        "keys_dict[\"descryption_key\"] = Fernet.generate_key().decode(\"ascii\")"
      ],
      "execution_count": null,
      "outputs": []
    },
    {
      "cell_type": "code",
      "metadata": {
        "id": "0EQS_942ckuc"
      },
      "source": [
        "# トークン発行等を行うアカウント(Wallet)を作成\n",
        "source_account = Account()"
      ],
      "execution_count": null,
      "outputs": []
    },
    {
      "cell_type": "code",
      "metadata": {
        "id": "Qm4BijE6U6da"
      },
      "source": [
        "# ここらへんも、Account の場合は account.public_key() だけど、Keypair の場合は account.public_key で取得時の書き方が変わってくるので注意\n",
        "keys_dict[\"source_account_secret_key\"] = list(source_account.secret_key())[:32]\n",
        "keys_dict[\"source_account_public_key\"] = str(source_account.public_key())"
      ],
      "execution_count": null,
      "outputs": []
    },
    {
      "cell_type": "code",
      "metadata": {
        "id": "v3kNVcPQQpFG"
      },
      "source": [
        "source_account.public_key()"
      ],
      "execution_count": null,
      "outputs": []
    },
    {
      "cell_type": "code",
      "metadata": {
        "id": "n55zY2vVQr78"
      },
      "source": [
        "# シークレットキーからAccountを復元して、public_key が同じことを確認\n",
        "Account(keys_dict[\"source_account_secret_key\"]).public_key()"
      ],
      "execution_count": null,
      "outputs": []
    },
    {
      "cell_type": "code",
      "metadata": {
        "id": "MD3GXtZJRRQF"
      },
      "source": [
        "# メインネットでやる場合は作ったWalletにSOLを送金しておく必要がある\n",
        "# devnet などでは https://solfaucet.com/ とかで Airdrop を申請して、solscan で残高を確認しておくと良い"
      ],
      "execution_count": null,
      "outputs": []
    },
    {
      "cell_type": "code",
      "metadata": {
        "id": "Gj3-ywSyH6jR"
      },
      "source": [
        "# Metaplex に渡す用のコンフィグ生成\n",
        "metaplex_config_dict = {\n",
        "    \"PRIVATE_KEY\": base58.b58encode(source_account.secret_key()).decode(\"ascii\"),\n",
        "    \"PUBLIC_KEY\": str(source_account.public_key()),\n",
        "    \"DECRYPTION_KEY\": keys_dict[\"descryption_key\"]\n",
        "}"
      ],
      "execution_count": null,
      "outputs": []
    },
    {
      "cell_type": "code",
      "metadata": {
        "id": "G6UW7epMKWBA"
      },
      "source": [
        "metaplex_api = MetaplexAPI(metaplex_config_dict)"
      ],
      "execution_count": null,
      "outputs": []
    },
    {
      "cell_type": "code",
      "metadata": {
        "id": "HnnFnf14VW6s"
      },
      "source": [
        "result_json = metaplex_api.deploy(api_endpoint, \"Bubbles\", \"BUBBLENFT\")"
      ],
      "execution_count": null,
      "outputs": []
    },
    {
      "cell_type": "code",
      "metadata": {
        "id": "x8CeORncVYV3"
      },
      "source": [
        "mint_address = json.loads(result_json)['contract']"
      ],
      "execution_count": null,
      "outputs": []
    },
    {
      "cell_type": "code",
      "metadata": {
        "id": "Qo0WFfIRvm8w"
      },
      "source": [
        "f'https://solscan.io/token/{mint_address}?cluster=devnet'"
      ],
      "execution_count": null,
      "outputs": []
    },
    {
      "cell_type": "code",
      "metadata": {
        "id": "zh_8kLScaKvg"
      },
      "source": [
        "keys_dict['mint_address'] = mint_address"
      ],
      "execution_count": null,
      "outputs": []
    },
    {
      "cell_type": "code",
      "metadata": {
        "id": "idd2r3VxWada"
      },
      "source": [
        "# NFTを送る先のwalletを作成している。本番だったらWalletの public key だけあれば大丈夫\n",
        "wallet_json = metaplex_api.wallet()"
      ],
      "execution_count": null,
      "outputs": []
    },
    {
      "cell_type": "code",
      "metadata": {
        "id": "VwsNMH58dww0"
      },
      "source": [
        "wallet = json.loads(wallet_json)"
      ],
      "execution_count": null,
      "outputs": []
    },
    {
      "cell_type": "code",
      "metadata": {
        "id": "06a-9v7AamEx"
      },
      "source": [
        "wallet['address']"
      ],
      "execution_count": null,
      "outputs": []
    },
    {
      "cell_type": "code",
      "metadata": {
        "id": "kmE6VSa7amyq"
      },
      "source": [
        "# PrivateKey も含まれているが表示しない方がいいので、public_key で値が正しいことを確認\n",
        "Account(wallet['private_key']).public_key()"
      ],
      "execution_count": null,
      "outputs": []
    },
    {
      "cell_type": "code",
      "metadata": {
        "id": "vxy4EE32d3EK"
      },
      "source": [
        "keys_dict['wallet_private_key'] = wallet['private_key']\n",
        "keys_dict['wallet_public_key'] = wallet['address']"
      ],
      "execution_count": null,
      "outputs": []
    },
    {
      "cell_type": "code",
      "metadata": {
        "id": "AHm1J4Oza3yJ"
      },
      "source": [
        "# TOKEN 受け取り用に wallet へ少額の SOL を送る、これも本番で別途walletがあるなら必要ない\n",
        "metaplex_api.topup(api_endpoint, wallet['address'])"
      ],
      "execution_count": null,
      "outputs": []
    },
    {
      "cell_type": "code",
      "metadata": {
        "id": "NXPBD5t1eq2e"
      },
      "source": [
        "# MINT を行う\n",
        "metaplex_api.mint(api_endpoint, mint_address, wallet['address'], offchain_metadata_uri)"
      ],
      "execution_count": null,
      "outputs": []
    },
    {
      "cell_type": "code",
      "metadata": {
        "id": "U-eiawlqjvSI"
      },
      "source": [
        "with open('../solana-nft-keys.json', 'w') as fp:\n",
        "    json.dump(keys_dict, fp)"
      ],
      "execution_count": null,
      "outputs": []
    },
    {
      "cell_type": "code",
      "metadata": {
        "id": "DLWfVswCrXtu"
      },
      "source": [
        "# 第2回で利用したコード\n",
        "\n",
        "from solana.publickey import PublicKey\n",
        "import base64\n",
        "import struct\n",
        "import requests\n",
        "METADATA_PROGRAM_ID = PublicKey('metaqbxxUerdq28cj1RbAWkYQm3ybzjb6a8bt518x1s')\n",
        "\n",
        "# metadataアカウントを取得する\n",
        "def get_metadata_account(mint_key):\n",
        "    return PublicKey.find_program_address(\n",
        "        [b'metadata', bytes(METADATA_PROGRAM_ID), bytes(PublicKey(mint_key))],\n",
        "        METADATA_PROGRAM_ID\n",
        "    )[0]\n",
        "\n",
        "# バイナリデータからmetadata情報を取り出す\n",
        "def unpack_metadata_account(data):\n",
        "    assert(data[0] == 4)\n",
        "    i = 1\n",
        "    source_account = base58.b58encode(bytes(struct.unpack('<' + \"B\"*32, data[i:i+32])))\n",
        "    i += 32\n",
        "    mint_account = base58.b58encode(bytes(struct.unpack('<' + \"B\"*32, data[i:i+32])))\n",
        "    i += 32\n",
        "    name_len = struct.unpack('<I', data[i:i+4])[0]\n",
        "    i += 4\n",
        "    name = struct.unpack('<' + \"B\"*name_len, data[i:i+name_len])\n",
        "    i += name_len\n",
        "    symbol_len = struct.unpack('<I', data[i:i+4])[0]\n",
        "    i += 4 \n",
        "    symbol = struct.unpack('<' + \"B\"*symbol_len, data[i:i+symbol_len])\n",
        "    i += symbol_len\n",
        "    uri_len = struct.unpack('<I', data[i:i+4])[0]\n",
        "    i += 4 \n",
        "    uri = struct.unpack('<' + \"B\"*uri_len, data[i:i+uri_len])\n",
        "    i += uri_len\n",
        "    fee = struct.unpack('<h', data[i:i+2])[0]\n",
        "    i += 2\n",
        "    has_creator = data[i] \n",
        "    i += 1\n",
        "    creators = []\n",
        "    verified = []\n",
        "    share = []\n",
        "    if has_creator:\n",
        "        creator_len = struct.unpack('<I', data[i:i+4])[0]\n",
        "        i += 4\n",
        "        for _ in range(creator_len):\n",
        "            creator = base58.b58encode(bytes(struct.unpack('<' + \"B\"*32, data[i:i+32])))\n",
        "            creators.append(creator)\n",
        "            i += 32\n",
        "            verified.append(data[i])\n",
        "            i += 1\n",
        "            share.append(data[i])\n",
        "            i += 1\n",
        "    primary_sale_happened = bool(data[i])\n",
        "    i += 1\n",
        "    is_mutable = bool(data[i])\n",
        "    metadata = {\n",
        "        \"update_authority\": source_account,\n",
        "        \"mint\": mint_account,\n",
        "        \"data\": {\n",
        "            \"name\": bytes(name).decode(\"utf-8\").strip(\"\\x00\"),\n",
        "            \"symbol\": bytes(symbol).decode(\"utf-8\").strip(\"\\x00\"),\n",
        "            \"uri\": bytes(uri).decode(\"utf-8\").strip(\"\\x00\"),\n",
        "            \"seller_fee_basis_points\": fee,\n",
        "            \"creators\": creators,\n",
        "            \"verified\": verified,\n",
        "            \"share\": share,\n",
        "        },\n",
        "        \"primary_sale_happened\": primary_sale_happened,\n",
        "        \"is_mutable\": is_mutable,\n",
        "    }\n",
        "    return metadata"
      ],
      "execution_count": null,
      "outputs": []
    },
    {
      "cell_type": "code",
      "metadata": {
        "id": "PL6vyUUos0fA"
      },
      "source": [
        "metadata_account = get_metadata_account(mint_address)\n",
        "decoded_data = base64.b64decode(Client(api_endpoint).get_account_info(metadata_account)['result']['value']['data'][0])\n",
        "metadata = unpack_metadata_account(decoded_data)"
      ],
      "execution_count": null,
      "outputs": []
    },
    {
      "cell_type": "code",
      "metadata": {
        "id": "ne22756StISK"
      },
      "source": [
        "metadata"
      ],
      "execution_count": null,
      "outputs": []
    },
    {
      "cell_type": "code",
      "metadata": {
        "id": "JxXOpxQttOpd"
      },
      "source": [
        "metadata_uri = metadata['data']['uri']\n",
        "response = requests.get(metadata_uri)\n",
        "response_json = response.json()"
      ],
      "execution_count": null,
      "outputs": []
    },
    {
      "cell_type": "code",
      "metadata": {
        "id": "Q8LoapLUttsg"
      },
      "source": [
        "response_json"
      ],
      "execution_count": null,
      "outputs": []
    },
    {
      "cell_type": "code",
      "metadata": {
        "id": "R6v5D8JNtu20"
      },
      "source": [
        "f'https://solscan.io/account/{wallet[\"address\"]}?cluster=devnet'"
      ],
      "execution_count": null,
      "outputs": []
    }
  ]
}